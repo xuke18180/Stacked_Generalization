{
 "cells": [
  {
   "cell_type": "code",
   "execution_count": null,
   "metadata": {},
   "outputs": [
    {
     "name": "stdout",
     "output_type": "stream",
     "text": [
      "Downloading https://www.cs.toronto.edu/~kriz/cifar-100-python.tar.gz to ./tmp_data/cifar-100-python.tar.gz\n"
     ]
    },
    {
     "name": "stderr",
     "output_type": "stream",
     "text": [
      "100%|██████████| 169001437/169001437 [00:01<00:00, 92424064.25it/s] \n"
     ]
    },
    {
     "name": "stdout",
     "output_type": "stream",
     "text": [
      "Extracting ./tmp_data/cifar-100-python.tar.gz to ./tmp_data\n",
      "CIFAR-100 Mean (0-255 range): [129.30386352539062, 124.06986999511719, 112.43356323242188]\n",
      "CIFAR-100 Std (0-255 range): [68.17024230957031, 65.39180755615234, 70.41837310791016]\n"
     ]
    }
   ],
   "source": [
    "import torch\n",
    "import torchvision\n",
    "import torchvision.transforms as transforms\n",
    "import numpy as np\n",
    "\n",
    "# Download CIFAR-100\n",
    "trainset = torchvision.datasets.CIFAR100(root='./tmp_data', train=True, download=True)\n",
    "\n",
    "# Convert to numpy array and calculate\n",
    "data = torch.tensor(trainset.data, dtype=torch.float32)\n",
    "mean = data.mean(axis=(0,1,2))/255.0\n",
    "std = data.std(axis=(0,1,2))/255.0\n",
    "\n",
    "# Convert back to 0-255 range\n",
    "mean_0_255 = mean * 255.0\n",
    "std_0_255 = std * 255.0\n",
    "\n",
    "print(\"CIFAR-100 Mean (0-255 range):\", mean_0_255.tolist())\n",
    "print(\"CIFAR-100 Std (0-255 range):\", std_0_255.tolist())"
   ]
  },
  {
   "cell_type": "code",
   "execution_count": null,
   "metadata": {},
   "outputs": [],
   "source": []
  }
 ],
 "metadata": {
  "kernelspec": {
   "display_name": "stacked-gen",
   "language": "python",
   "name": "python3"
  },
  "language_info": {
   "codemirror_mode": {
    "name": "ipython",
    "version": 3
   },
   "file_extension": ".py",
   "mimetype": "text/x-python",
   "name": "python",
   "nbconvert_exporter": "python",
   "pygments_lexer": "ipython3",
   "version": "3.10.15"
  }
 },
 "nbformat": 4,
 "nbformat_minor": 2
}
